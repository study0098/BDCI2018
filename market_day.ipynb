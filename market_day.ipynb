{
 "cells": [
  {
   "cell_type": "code",
   "execution_count": null,
   "metadata": {},
   "outputs": [],
   "source": [
    "import pandas as pd\n",
    "fileHead = 'C:/Users/xyttttt/Desktop'\n",
    "goodsPromotePrice = pd.read_csv(fileHead+'/goods_promote_price.csv',encoding='utf8')\n",
    "goodsSkuRelation = pd.read_csv(fileHead+'/goods_sku_relation.csv',encoding='utf8')\n",
    "goodsDaily = pd.read_csv(fileHead+'/goodsdaily.csv',encoding='utf8')\n",
    "goodsInfo = pd.read_csv(fileHead+'/goodsinfo.csv',encoding='utf8')\n",
    "marketing = pd.read_csv(fileHead+'/marketing.csv',encoding='utf8')\n",
    "submit = pd.read_csv(fileHead+'/submit_example.csv',encoding='utf8')\n",
    "allDataDate=[]\n",
    "days = [31,28,31,30,31,30,31,31,30,31,30,31]\n",
    "for y in [2017,2018]:\n",
    "    for m in range(1,13):\n",
    "        for d in range(1,days[m-1]+1):\n",
    "            allDataDate.append(int(str(y)+('0'+str(m))[-2:]+('0'+str(d))[-2:]))\n",
    "allDataDate = allDataDate[59:440]\n",
    "allDate = {}\n",
    "for date in allDataDate:\n",
    "    allDate[date] = allDataDate.index(date)\n",
    "allDate = pd.DataFrame({'data_date':list(allDate.keys()),'day_num':list(allDate.values())})\n",
    "allDate['data_date'] = allDate['data_date'].astype('int')\n",
    "allDate['day_num'] = allDate['day_num'].astype('int')\n",
    "\n",
    "goodsDate = pd.DataFrame({'data_date':goodsDaily.data_date,'goods_id':goodsDaily.goods_id,'onsale_days':goodsDaily.onsale_days})\n",
    "goodsDate = goodsDate.drop_duplicates('goods_id')\n",
    "goodsDate = pd.merge(goodsDate, allDate, on='data_date',how='left')\n",
    "goodsDate['market_day'] = goodsDate.day_num-goodsDate.onsale_days\n",
    "goodsDate.loc[goodsDate.market_day<0,'market_day'] = 0\n",
    "goodsDate = pd.merge(goodsDate, pd.DataFrame({'market_day':allDate.day_num,'market_date':allDate.data_date}),on='market_day',how='left')\n",
    "goodsDate = pd.merge(goodsDate, goodsSkuRelation, on='goods_id',how='left')\n",
    "goodsDate = goodsDate.drop(['data_date','day_num','market_day'],axis=1)\n",
    "\n",
    "ddddffff = pd.merge(submit, goodsDate, on='sku_id',how='left')\n",
    "\n",
    "ddddffff[ddddffff.market_date==20180315]"
   ]
  }
 ],
 "metadata": {
  "kernelspec": {
   "display_name": "Python 3",
   "language": "python",
   "name": "python3"
  },
  "language_info": {
   "codemirror_mode": {
    "name": "ipython",
    "version": 3
   },
   "file_extension": ".py",
   "mimetype": "text/x-python",
   "name": "python",
   "nbconvert_exporter": "python",
   "pygments_lexer": "ipython3",
   "version": "3.6.5"
  }
 },
 "nbformat": 4,
 "nbformat_minor": 2
}
