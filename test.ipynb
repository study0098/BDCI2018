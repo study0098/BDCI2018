{
 "cells": [
  {
   "cell_type": "code",
   "execution_count": 10,
   "metadata": {},
   "outputs": [
    {
     "name": "stdout",
     "output_type": "stream",
     "text": [
      "10000: 0.5615758913786726\n",
      "20000: 0.5657860384388507\n",
      "all: 0.5641337366329044\n"
     ]
    }
   ],
   "source": [
    "import pandas as pd\n",
    "import random\n",
    "filehead = 'C:/Users/xyttttt/Desktop/'\n",
    "baseline = pd.read_csv(filehead + '959.csv', encoding = 'utf8')\n",
    "testfile = pd.read_csv(filehead + 'final_p2.csv', encoding = 'utf8')\n",
    "count = 10000\n",
    "select = random.sample(range(0,104510),count)\n",
    "temp = pd.DataFrame(list(range(0,count)),index = select,columns=['useless'])\n",
    "testset = pd.merge(temp, baseline, left_index=True,right_index=True, how ='left')\n",
    "testset.rename(columns={'week1':'base_week1','week2':'base_week2','week3':'base_week3','week4':'base_week4','week5':'base_week5'},inplace = True)\n",
    "testfile.rename(columns={'week1':'test_week1','week2':'test_week2','week3':'test_week3','week4':'test_week4','week5':'test_week5'},inplace = True)\n",
    "final = pd.merge(testset, testfile,on='sku_id', how ='left')\n",
    "import numpy as np\n",
    "final['avg'] = 0\n",
    "final['avg'] = final.apply(lambda x: (np.square(x['base_week1']-x['test_week1']) + np.square(x['base_week2']-x['test_week2'])\n",
    "                           + np.square(x['base_week3']-x['test_week3']) + np.square(x['base_week4']-x['test_week4'])\n",
    "                           + np.square(x['base_week5']-x['test_week5']))/5, axis = 1)\n",
    "RSME = np.sqrt(final.avg.mean())\n",
    "ans = 1/(1+RSME)\n",
    "print('10000: '+str(ans))\n",
    "\n",
    "count = 20000\n",
    "select = random.sample(range(0,104510),count)\n",
    "temp = pd.DataFrame(list(range(0,count)),index = select,columns=['useless'])\n",
    "testset = pd.merge(temp, baseline, left_index=True,right_index=True, how ='left')\n",
    "testset.rename(columns={'week1':'base_week1','week2':'base_week2','week3':'base_week3','week4':'base_week4','week5':'base_week5'},inplace = True)\n",
    "testfile.rename(columns={'week1':'test_week1','week2':'test_week2','week3':'test_week3','week4':'test_week4','week5':'test_week5'},inplace = True)\n",
    "final = pd.merge(testset, testfile,on='sku_id', how ='left')\n",
    "import numpy as np\n",
    "final['avg'] = 0\n",
    "final['avg'] = final.apply(lambda x: (np.square(x['base_week1']-x['test_week1']) + np.square(x['base_week2']-x['test_week2'])\n",
    "                           + np.square(x['base_week3']-x['test_week3']) + np.square(x['base_week4']-x['test_week4'])\n",
    "                           + np.square(x['base_week5']-x['test_week5']))/5, axis = 1)\n",
    "RSME = np.sqrt(final.avg.mean())\n",
    "ans = 1/(1+RSME)\n",
    "print('20000: '+str(ans))\n",
    "\n",
    "count = 104510\n",
    "select = random.sample(range(0,104510),count)\n",
    "temp = pd.DataFrame(list(range(0,count)),index = select,columns=['useless'])\n",
    "testset = pd.merge(temp, baseline, left_index=True,right_index=True, how ='left')\n",
    "testset.rename(columns={'week1':'base_week1','week2':'base_week2','week3':'base_week3','week4':'base_week4','week5':'base_week5'},inplace = True)\n",
    "testfile.rename(columns={'week1':'test_week1','week2':'test_week2','week3':'test_week3','week4':'test_week4','week5':'test_week5'},inplace = True)\n",
    "final = pd.merge(testset, testfile,on='sku_id', how ='left')\n",
    "import numpy as np\n",
    "final['avg'] = 0\n",
    "final['avg'] = final.apply(lambda x: (np.square(x['base_week1']-x['test_week1']) + np.square(x['base_week2']-x['test_week2'])\n",
    "                           + np.square(x['base_week3']-x['test_week3']) + np.square(x['base_week4']-x['test_week4'])\n",
    "                           + np.square(x['base_week5']-x['test_week5']))/5, axis = 1)\n",
    "RSME = np.sqrt(final.avg.mean())\n",
    "ans = 1/(1+RSME)\n",
    "print('all: '+str(ans))"
   ]
  },
  {
   "cell_type": "code",
   "execution_count": 24,
   "metadata": {},
   "outputs": [
    {
     "name": "stdout",
     "output_type": "stream",
     "text": [
      "10000: 0.5187539753208475\n",
      "20000: 0.49289269638699634\n",
      "all: 0.5011846676341015\n"
     ]
    }
   ],
   "source": [
    "import pandas as pd\n",
    "import random\n",
    "filehead = 'C:/Users/xyttttt/Desktop/'\n",
    "baseline = pd.read_csv(filehead + 'round.csv', encoding = 'utf8')\n",
    "testfile = pd.read_csv(filehead + 'rftest1.csv', encoding = 'utf8')\n",
    "count = 10000\n",
    "select = random.sample(range(0,104510),count)\n",
    "temp = pd.DataFrame(list(range(0,count)),index = select,columns=['useless'])\n",
    "testset = pd.merge(temp, baseline, left_index=True,right_index=True, how ='left')\n",
    "testset.rename(columns={'week1':'base_week1','week2':'base_week2','week3':'base_week3','week4':'base_week4','week5':'base_week5'},inplace = True)\n",
    "testfile.rename(columns={'week1':'test_week1','week2':'test_week2','week3':'test_week3','week4':'test_week4','week5':'test_week5'},inplace = True)\n",
    "final = pd.merge(testset, testfile,on='sku_id', how ='left')\n",
    "import numpy as np\n",
    "final['avg'] = 0\n",
    "final['avg'] = final.apply(lambda x: (np.square(x['base_week1']-x['test_week1']) + np.square(x['base_week2']-x['test_week2'])\n",
    "                           + np.square(x['base_week3']-x['test_week3']) + np.square(x['base_week4']-x['test_week4'])\n",
    "                           + np.square(x['base_week5']-x['test_week5']))/5, axis = 1)\n",
    "RSME = np.sqrt(final.avg.mean())\n",
    "ans = 1/(1+RSME)\n",
    "print('10000: '+str(ans))\n",
    "\n",
    "count = 20000\n",
    "select = random.sample(range(0,104510),count)\n",
    "temp = pd.DataFrame(list(range(0,count)),index = select,columns=['useless'])\n",
    "testset = pd.merge(temp, baseline, left_index=True,right_index=True, how ='left')\n",
    "testset.rename(columns={'week1':'base_week1','week2':'base_week2','week3':'base_week3','week4':'base_week4','week5':'base_week5'},inplace = True)\n",
    "testfile.rename(columns={'week1':'test_week1','week2':'test_week2','week3':'test_week3','week4':'test_week4','week5':'test_week5'},inplace = True)\n",
    "final = pd.merge(testset, testfile,on='sku_id', how ='left')\n",
    "import numpy as np\n",
    "final['avg'] = 0\n",
    "final['avg'] = final.apply(lambda x: (np.square(x['base_week1']-x['test_week1']) + np.square(x['base_week2']-x['test_week2'])\n",
    "                           + np.square(x['base_week3']-x['test_week3']) + np.square(x['base_week4']-x['test_week4'])\n",
    "                           + np.square(x['base_week5']-x['test_week5']))/5, axis = 1)\n",
    "RSME = np.sqrt(final.avg.mean())\n",
    "ans = 1/(1+RSME)\n",
    "print('20000: '+str(ans))\n",
    "\n",
    "count = 104510\n",
    "select = random.sample(range(0,104510),count)\n",
    "temp = pd.DataFrame(list(range(0,count)),index = select,columns=['useless'])\n",
    "testset = pd.merge(temp, baseline, left_index=True,right_index=True, how ='left')\n",
    "testset.rename(columns={'week1':'base_week1','week2':'base_week2','week3':'base_week3','week4':'base_week4','week5':'base_week5'},inplace = True)\n",
    "testfile.rename(columns={'week1':'test_week1','week2':'test_week2','week3':'test_week3','week4':'test_week4','week5':'test_week5'},inplace = True)\n",
    "final = pd.merge(testset, testfile,on='sku_id', how ='left')\n",
    "import numpy as np\n",
    "final['avg'] = 0\n",
    "final['avg'] = final.apply(lambda x: (np.square(x['base_week1']-x['test_week1']) + np.square(x['base_week2']-x['test_week2'])\n",
    "                           + np.square(x['base_week3']-x['test_week3']) + np.square(x['base_week4']-x['test_week4'])\n",
    "                           + np.square(x['base_week5']-x['test_week5']))/5, axis = 1)\n",
    "RSME = np.sqrt(final.avg.mean())\n",
    "ans = 1/(1+RSME)\n",
    "print('all: '+str(ans))"
   ]
  },
  {
   "cell_type": "code",
   "execution_count": null,
   "metadata": {},
   "outputs": [],
   "source": []
  }
 ],
 "metadata": {
  "kernelspec": {
   "display_name": "Python 3",
   "language": "python",
   "name": "python3"
  },
  "language_info": {
   "codemirror_mode": {
    "name": "ipython",
    "version": 3
   },
   "file_extension": ".py",
   "mimetype": "text/x-python",
   "name": "python",
   "nbconvert_exporter": "python",
   "pygments_lexer": "ipython3",
   "version": "3.6.5"
  }
 },
 "nbformat": 4,
 "nbformat_minor": 2
}
