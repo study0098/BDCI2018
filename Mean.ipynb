{
 "cells": [
  {
   "cell_type": "code",
   "execution_count": null,
   "metadata": {},
   "outputs": [],
   "source": [
    "import pandas as pd\n",
    "from tqdm import tqdm\n",
    "import numpy as np\n",
    "from numpy import random as nr\n",
    "\n",
    "df=pd.read_csv('C:/Users/xyttttt/Desktop/goodsale.csv',low_memory=False)\n",
    "df=df.loc[df['data_date'] >= 20180201]#此处可以调整\n",
    "cols = [col for col in df.columns if col in['sku_id','goods_num']]\n",
    "df = df.loc[:, cols]\n",
    "df_group = df.groupby('sku_id')\n",
    "df_mean = df_group.mean()\n",
    "df_mean = df_mean*7\n",
    "\n",
    "res = pd.read_csv('C:/Users/xyttttt/Desktop/submit_example.csv')\n",
    "r,c = res.shape\n",
    "for i in tqdm(range(r)):\n",
    "    sku_id = res.iloc[i,0]\n",
    "    if sku_id in df_mean.index:\n",
    "        #rand = nr.normal(0,0.3,size = (5,1))\n",
    "        #df1=df.loc[df['sku_id']==sku_id]\n",
    "        #row=df1['sku_id'].value_counts().item()\n",
    "        row=0;\n",
    "        for k in df['sku_id']:\n",
    "            if k==sku_id:\n",
    "                row=row+1;\n",
    "        for j in range(1,6):\n",
    "            if row >= 30:#以下三个if可以调整\n",
    "                res.iloc[i,j] = np.round((df_mean.loc[sku_id,'goods_num'])*1.07).astype(int)#此权重在1-1.1之间效果较好\n",
    "            elif row >= 17:\n",
    "                res.iloc[i,j] = np.floor((df_mean.loc[sku_id,'goods_num'])*0.72).astype(int)#此权重在0.7到0.75之间效果较好\n",
    "            elif row >= 8:\n",
    "                res.iloc[i,j] = np.floor((df_mean.loc[sku_id,'goods_num'])*0.42).astype(int)#此权重在0.4-0.5之间效果较好\n",
    "            else:\n",
    "                res.iloc[i,j] = np.floor((df_mean.loc[sku_id,'goods_num'])*0.2).astype(int)#此权重未调整\n",
    "                \n",
    "res.to_csv('C:/Users/xyttttt/Desktop/result.csv',index = False)"
   ]
  }
 ],
 "metadata": {
  "kernelspec": {
   "display_name": "Python 3",
   "language": "python",
   "name": "python3"
  },
  "language_info": {
   "codemirror_mode": {
    "name": "ipython",
    "version": 3
   },
   "file_extension": ".py",
   "mimetype": "text/x-python",
   "name": "python",
   "nbconvert_exporter": "python",
   "pygments_lexer": "ipython3",
   "version": "3.6.5"
  }
 },
 "nbformat": 4,
 "nbformat_minor": 2
}
